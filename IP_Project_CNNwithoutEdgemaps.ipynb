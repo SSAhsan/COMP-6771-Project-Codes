{
 "cells": [
  {
   "cell_type": "markdown",
   "id": "f5421afa-9c87-42d9-865a-77a41781753c",
   "metadata": {},
   "source": [
    "### 1.1 Import Necessary Libraries"
   ]
  },
  {
   "cell_type": "code",
   "execution_count": 20,
   "id": "571ac7cc-f643-4902-bf57-b95760437267",
   "metadata": {},
   "outputs": [],
   "source": [
    "import numpy as np\n",
    "import pandas as pd\n",
    "import matplotlib.pyplot as plt\n",
    "import cv2\n",
    "\n",
    "import torch\n",
    "import torch.nn as nn\n",
    "from torch.autograd import Variable\n",
    "\n",
    "import torchvision\n",
    "import torchvision.transforms as transforms\n",
    "from torch.utils.data import Dataset, DataLoader\n",
    "from sklearn.metrics import confusion_matrix\n",
    "\n",
    "from sklearn.model_selection import train_test_split, StratifiedKFold\n",
    "from sklearn.metrics import accuracy_score, f1_score, precision_score, recall_score, confusion_matrix\n",
    "#from torchviz import make_dot"
   ]
  },
  {
   "cell_type": "markdown",
   "id": "4de6f98a-6eac-43ea-a0f1-e278fbd60525",
   "metadata": {
    "tags": []
   },
   "source": [
    "### 1.2 Set Device to cuda"
   ]
  },
  {
   "cell_type": "code",
   "execution_count": 21,
   "id": "005cf4b3-d397-4799-9fb9-a9c7ab137f82",
   "metadata": {},
   "outputs": [
    {
     "data": {
      "text/plain": [
       "device(type='cuda', index=0)"
      ]
     },
     "execution_count": 21,
     "metadata": {},
     "output_type": "execute_result"
    }
   ],
   "source": [
    "device = torch.device(\"cuda:0\" if torch.cuda.is_available() else \"cpu\")\n",
    "device\n"
   ]
  },
  {
   "cell_type": "markdown",
   "id": "61156f4e-7378-41c8-b7a2-fea19ee469d1",
   "metadata": {
    "tags": []
   },
   "source": [
    "### 1.3 Download Fashion MNIST Dataset"
   ]
  },
  {
   "cell_type": "code",
   "execution_count": 22,
   "id": "5859477e-0de3-4b99-93b7-4270efa2d5a9",
   "metadata": {},
   "outputs": [],
   "source": [
    "train_set = torchvision.datasets.FashionMNIST(\"./data\", download=True, transform=transforms.Compose([transforms.ToTensor(),transforms.Normalize((0), (1))]))\n",
    "test_set = torchvision.datasets.FashionMNIST(\"./data\", download=True, train=False, transform=\n",
    "                                               transforms.Compose([transforms.ToTensor(),transforms.Normalize((0), (1))]))"
   ]
  },
  {
   "cell_type": "markdown",
   "id": "b6d82cbb-48ac-4da1-8820-089b03236732",
   "metadata": {
    "tags": []
   },
   "source": [
    "### 1.4 Visualize a sample Image"
   ]
  },
  {
   "cell_type": "code",
   "execution_count": 23,
   "id": "916b903e-adf3-41a1-a506-dece834c04fb",
   "metadata": {},
   "outputs": [
    {
     "name": "stdout",
     "output_type": "stream",
     "text": [
      "torch.Size([1, 28, 28]) 0\n"
     ]
    },
    {
     "data": {
      "image/png": "[encoded data removed]",
      "text/plain": [
       "<Figure size 432x288 with 1 Axes>"
      ]
     },
     "metadata": {
      "needs_background": "light"
     },
     "output_type": "display_data"
    }
   ],
   "source": [
    "img_tensor, label = train_set[1]\n",
    "print(img_tensor.shape, label)\n",
    "plt.imshow(img_tensor.squeeze(), cmap='gray');"
   ]
  },
  {
   "cell_type": "markdown",
   "id": "1f7e73de-c4c9-461e-a29d-913c0c9e009f",
   "metadata": {
    "tags": []
   },
   "source": [
    "### 1.4 Load Data into Batches"
   ]
  },
  {
   "cell_type": "code",
   "execution_count": 24,
   "id": "66e92042-6e14-4198-a9dc-f441fbdb6982",
   "metadata": {},
   "outputs": [],
   "source": [
    "batch_size = 100\n",
    "train_loader = torch.utils.data.DataLoader(train_set, batch_size, shuffle = True)\n",
    "test_loader = torch.utils.data.DataLoader(test_set,batch_size)"
   ]
  },
  {
   "cell_type": "markdown",
   "id": "0ca18c65-aa1f-4b89-87fe-80ea6a17dcb8",
   "metadata": {
    "tags": []
   },
   "source": [
    "### 1.5 Assign Output Labels to Numbers for Classification"
   ]
  },
  {
   "cell_type": "code",
   "execution_count": 25,
   "id": "a936d5bb-cca0-45a1-b303-2034694a3d68",
   "metadata": {},
   "outputs": [],
   "source": [
    "def output_label(label):\n",
    "    output_mapping = {\n",
    "                 0: \"T-shirt/Top\",\n",
    "                 1: \"Trouser\",\n",
    "                 2: \"Pullover\",\n",
    "                 3: \"Dress\",\n",
    "                 4: \"Coat\", \n",
    "                 5: \"Sandal\", \n",
    "                 6: \"Shirt\",\n",
    "                 7: \"Sneaker\",\n",
    "                 8: \"Bag\",\n",
    "                 9: \"Ankle Boot\"\n",
    "                 }\n",
    "    input = (label.item() if type(label) == torch.Tensor else label)\n",
    "    return output_mapping[input]"
   ]
  },
  {
   "cell_type": "markdown",
   "id": "6e814254-188b-46dc-8990-20ae3a05815c",
   "metadata": {
    "tags": []
   },
   "source": [
    "### 1.6 Construction of CNN"
   ]
  },
  {
   "cell_type": "code",
   "execution_count": 26,
   "id": "1c254ca5-0f3f-45a6-8cbb-0cd236ede6ad",
   "metadata": {},
   "outputs": [],
   "source": [
    "class ClothClassifier(nn.Module):\n",
    "    \n",
    "    def __init__(self):\n",
    "        super(ClothClassifier, self).__init__()\n",
    "        \n",
    "        self.layer1 = nn.Sequential(\n",
    "            nn.Conv2d(in_channels=1, out_channels=32, kernel_size=3, padding=1),\n",
    "            nn.BatchNorm2d(32),\n",
    "            nn.ReLU(),\n",
    "            nn.MaxPool2d(kernel_size=2, stride=2)\n",
    "        )\n",
    "        \n",
    "        self.layer2 = nn.Sequential(\n",
    "            nn.Conv2d(in_channels=32, out_channels=96, kernel_size=3, padding=1),\n",
    "            nn.BatchNorm2d(96),\n",
    "            nn.ReLU(),\n",
    "            \n",
    "        )\n",
    "        \n",
    "        self.layer3 = nn.Sequential(\n",
    "            nn.Conv2d(in_channels=96, out_channels=64, kernel_size=3),\n",
    "            nn.BatchNorm2d(64),\n",
    "            nn.ReLU(),\n",
    "            #nn.MaxPool2d(2)\n",
    "            nn.MaxPool2d(kernel_size=2, stride=2)\n",
    "        )\n",
    "        \n",
    "        self.fc1 = nn.Linear(in_features=64*6*6, out_features=600)\n",
    "        self.drop = nn.Dropout2d(0.25)\n",
    "        self.fc2 = nn.Linear(in_features=600, out_features=120)\n",
    "        self.fc3 = nn.Linear(in_features=120, out_features=10)\n",
    "        \n",
    "    def forward(self, x):\n",
    "        out = self.layer1(x)\n",
    "        out = self.layer2(out)\n",
    "        out = self.layer3(out)\n",
    "        out = out.view(out.size(0), -1)\n",
    "        out = self.fc1(out)\n",
    "        out = self.drop(out)\n",
    "        out = self.fc2(out)\n",
    "        out = self.fc3(out)\n",
    "        \n",
    "        return out"
   ]
  },
  {
   "cell_type": "markdown",
   "id": "b7bf79ff-6944-433e-9ed3-46ba48f0d4ae",
   "metadata": {
    "tags": []
   },
   "source": [
    "### 1.7 Calling The Model CNN"
   ]
  },
  {
   "cell_type": "code",
   "execution_count": 27,
   "id": "5fddccbe-0369-41a2-b0f4-8454dcb2738a",
   "metadata": {},
   "outputs": [
    {
     "name": "stdout",
     "output_type": "stream",
     "text": [
      "ClothClassifier(\n",
      "  (layer1): Sequential(\n",
      "    (0): Conv2d(1, 32, kernel_size=(3, 3), stride=(1, 1), padding=(1, 1))\n",
      "    (1): BatchNorm2d(32, eps=1e-05, momentum=0.1, affine=True, track_running_stats=True)\n",
      "    (2): ReLU()\n",
      "    (3): MaxPool2d(kernel_size=2, stride=2, padding=0, dilation=1, ceil_mode=False)\n",
      "  )\n",
      "  (layer2): Sequential(\n",
      "    (0): Conv2d(32, 96, kernel_size=(3, 3), stride=(1, 1), padding=(1, 1))\n",
      "    (1): BatchNorm2d(96, eps=1e-05, momentum=0.1, affine=True, track_running_stats=True)\n",
      "    (2): ReLU()\n",
      "  )\n",
      "  (layer3): Sequential(\n",
      "    (0): Conv2d(96, 64, kernel_size=(3, 3), stride=(1, 1))\n",
      "    (1): BatchNorm2d(64, eps=1e-05, momentum=0.1, affine=True, track_running_stats=True)\n",
      "    (2): ReLU()\n",
      "    (3): MaxPool2d(kernel_size=2, stride=2, padding=0, dilation=1, ceil_mode=False)\n",
      "  )\n",
      "  (fc1): Linear(in_features=2304, out_features=600, bias=True)\n",
      "  (drop): Dropout2d(p=0.25, inplace=False)\n",
      "  (fc2): Linear(in_features=600, out_features=120, bias=True)\n",
      "  (fc3): Linear(in_features=120, out_features=10, bias=True)\n",
      ")\n"
     ]
    }
   ],
   "source": [
    "model = ClothClassifier()\n",
    "model.to(device)\n",
    "\n",
    "error = nn.CrossEntropyLoss()\n",
    "\n",
    "learning_rate = 0.001\n",
    "optimizer = torch.optim.Adam(model.parameters(), lr=learning_rate)\n",
    "print(model)"
   ]
  },
  {
   "cell_type": "markdown",
   "id": "b305811b-4f71-45f4-b2a5-f25664ad0aa2",
   "metadata": {
    "tags": []
   },
   "source": [
    "### 1.8 Testing the data on the Model"
   ]
  },
  {
   "cell_type": "code",
   "execution_count": 28,
   "id": "2448a974-a907-4361-84e2-3af7a14e5313",
   "metadata": {},
   "outputs": [
    {
     "name": "stdout",
     "output_type": "stream",
     "text": [
      "Iteration: 500, Loss: 0.3344813883304596, Accuracy: 86.47999572753906%\n",
      "Iteration: 1000, Loss: 0.2050270140171051, Accuracy: 89.8499984741211%\n",
      "Iteration: 1500, Loss: 0.23506468534469604, Accuracy: 88.47999572753906%\n",
      "Iteration: 2000, Loss: 0.1707177609205246, Accuracy: 89.0%\n",
      "Iteration: 2500, Loss: 0.12454786896705627, Accuracy: 91.22999572753906%\n",
      "Iteration: 3000, Loss: 0.1626216322183609, Accuracy: 91.69999694824219%\n",
      "Iteration: 3500, Loss: 0.22693867981433868, Accuracy: 91.6199951171875%\n",
      "Iteration: 4000, Loss: 0.12580421566963196, Accuracy: 92.0%\n",
      "Iteration: 4500, Loss: 0.13437405228614807, Accuracy: 91.65999603271484%\n",
      "Iteration: 5000, Loss: 0.2425416111946106, Accuracy: 91.90999603271484%\n",
      "Iteration: 5500, Loss: 0.09972981363534927, Accuracy: 91.33999633789062%\n",
      "Iteration: 6000, Loss: 0.15191034972667694, Accuracy: 92.14999389648438%\n"
     ]
    }
   ],
   "source": [
    "num_epochs = 10\n",
    "count = 0\n",
    "# Lists for visualization of loss and accuracy \n",
    "loss_list = []\n",
    "iteration_list = []\n",
    "accuracy_list = []\n",
    "\n",
    "# Lists for knowing classwise accuracy\n",
    "predictions_list = []\n",
    "labels_list = []\n",
    "\n",
    "for epoch in range(num_epochs):\n",
    "    for images, labels in train_loader:\n",
    "        # Transfering images and labels to GPU if available\n",
    "        images, labels = images.to(device), labels.to(device)\n",
    "    \n",
    "        train = Variable(images)\n",
    "        labels = Variable(labels)\n",
    "        \n",
    "        # Forward pass \n",
    "        outputs = model(train)\n",
    "        loss = error(outputs, labels)\n",
    "        \n",
    "        # Initializing a gradient as 0 so there is no mixing of gradient among the batches\n",
    "        optimizer.zero_grad()\n",
    "        \n",
    "        #Propagating the error backward\n",
    "        loss.backward()\n",
    "        \n",
    "        # Optimizing the parameters\n",
    "        optimizer.step()\n",
    "    \n",
    "        count += 1\n",
    "        #if count > 1000:\n",
    "            #break\n",
    "    \n",
    "    # Testing the model\n",
    "    \n",
    "        if not (count % 50):    # It's same as \"if count % 50 == 0\"\n",
    "            total = 0\n",
    "            correct = 0\n",
    "        \n",
    "            for images, labels in test_loader:\n",
    "                images, labels = images.to(device), labels.to(device)\n",
    "                labels_list.append(labels)\n",
    "            \n",
    "                test = Variable(images)\n",
    "            \n",
    "                outputs = model(test)\n",
    "            \n",
    "                predictions = torch.max(outputs, 1)[1].to(device)\n",
    "                predictions_list.append(predictions)\n",
    "                correct += (predictions == labels).sum()\n",
    "            \n",
    "                total += len(labels)\n",
    "            \n",
    "            accuracy = correct * 100 / total\n",
    "            loss_list.append(loss.data)\n",
    "            iteration_list.append(count)\n",
    "            accuracy_list.append(accuracy)\n",
    "        \n",
    "        if not (count % 500):\n",
    "            print(\"Iteration: {}, Loss: {}, Accuracy: {}%\".format(count, loss.data, accuracy))\n",
    "        #if count == 1000:\n",
    "            #break"
   ]
  },
  {
   "cell_type": "markdown",
   "id": "2cd1f1d0-d7c7-4b48-89b0-30629a9af2ce",
   "metadata": {
    "tags": []
   },
   "source": [
    "### Plot Iterations vs Loss"
   ]
  },
  {
   "cell_type": "code",
   "execution_count": 29,
   "id": "13e8bb96-2f75-4241-8a28-a098924cee04",
   "metadata": {},
   "outputs": [
    {
     "data": {
      "image/png": "[encoded data removed]",
      "text/plain": [
       "<Figure size 432x288 with 1 Axes>"
      ]
     },
     "metadata": {
      "needs_background": "light"
     },
     "output_type": "display_data"
    }
   ],
   "source": [
    "import torch\n",
    "loss_list_1= torch.tensor(loss_list, device = 'cpu')\n",
    "iteration_list_1 = torch.tensor(iteration_list, device = 'cpu')\n",
    "plt.plot(iteration_list_1, loss_list_1)\n",
    "plt.xlabel(\"No. of Iteration\")\n",
    "plt.ylabel(\"Loss\")\n",
    "plt.title(\"Iterations vs Loss\")\n",
    "plt.show()"
   ]
  },
  {
   "cell_type": "markdown",
   "id": "17f824e0-43d1-45e2-af3f-fc4729ce3b6d",
   "metadata": {},
   "source": [
    "### Plot Iterations vs Accuracy"
   ]
  },
  {
   "cell_type": "code",
   "execution_count": 34,
   "id": "5d48d291-8dcf-493d-a3e2-182e23076c4c",
   "metadata": {},
   "outputs": [
    {
     "data": {
      "image/png": "[encoded data removed]",
      "text/plain": [
       "<Figure size 432x288 with 1 Axes>"
      ]
     },
     "metadata": {
      "needs_background": "light"
     },
     "output_type": "display_data"
    }
   ],
   "source": [
    "import torch\n",
    "accuracy_list_1= torch.tensor(accuracy_list, device = 'cpu')\n",
    "#iteration_list_1 = torch.tensor(iteration_list, device = 'cpu')\n",
    "plt.plot(iteration_list_1, accuracy_list_1)\n",
    "plt.xlabel(\"No. of Iteration\")\n",
    "plt.ylabel(\"Loss\")\n",
    "plt.title(\"Iterations vs Accuracy\")\n",
    "plt.show()"
   ]
  },
  {
   "cell_type": "code",
   "execution_count": 31,
   "id": "6f5fbc29-42fa-450e-be47-463c9946c3bd",
   "metadata": {},
   "outputs": [
    {
     "name": "stdout",
     "output_type": "stream",
     "text": [
      "Accuracy of T-shirt/Top: 87.70%\n",
      "Accuracy of Trouser: 99.30%\n",
      "Accuracy of Pullover: 88.00%\n",
      "Accuracy of Dress: 87.90%\n",
      "Accuracy of Coat: 91.00%\n",
      "Accuracy of Sandal: 98.20%\n",
      "Accuracy of Shirt: 75.30%\n",
      "Accuracy of Sneaker: 96.90%\n",
      "Accuracy of Bag: 97.90%\n",
      "Accuracy of Ankle Boot: 97.00%\n"
     ]
    }
   ],
   "source": [
    "class_correct = [0. for _ in range(10)]\n",
    "total_correct = [0. for _ in range(10)]\n",
    "\n",
    "with torch.no_grad():\n",
    "    for images, labels in test_loader:\n",
    "        images, labels = images.to(device), labels.to(device)\n",
    "        test = Variable(images)\n",
    "        outputs = model(test)\n",
    "        predicted = torch.max(outputs, 1)[1]\n",
    "        c = (predicted == labels).squeeze()\n",
    "        \n",
    "        for i in range(100):\n",
    "            label = labels[i]\n",
    "            class_correct[label] += c[i].item()\n",
    "            total_correct[label] += 1\n",
    "        \n",
    "for i in range(10):\n",
    "    print(\"Accuracy of {}: {:.2f}%\".format(output_label(i), class_correct[i] * 100 / total_correct[i]))"
   ]
  },
  {
   "cell_type": "code",
   "execution_count": 32,
   "id": "31916c3f-8e7e-4e20-96a7-7dd8663d84f2",
   "metadata": {},
   "outputs": [],
   "source": [
    "from itertools import chain \n",
    "\n",
    "predictions_l = [predictions_list[i].tolist() for i in range(len(predictions_list))]\n",
    "labels_l = [labels_list[i].tolist() for i in range(len(labels_list))]\n",
    "predictions_l = list(chain.from_iterable(predictions_l))\n",
    "labels_l = list(chain.from_iterable(labels_l))"
   ]
  },
  {
   "cell_type": "code",
   "execution_count": 33,
   "id": "2a1f91d4-fb5d-4393-a470-2cd7ad7f9948",
   "metadata": {},
   "outputs": [
    {
     "name": "stdout",
     "output_type": "stream",
     "text": [
      "Classification report for CNN :\n",
      "              precision    recall  f1-score   support\n",
      "\n",
      "           0       0.85      0.85      0.85    120000\n",
      "           1       0.99      0.98      0.98    120000\n",
      "           2       0.84      0.88      0.86    120000\n",
      "           3       0.90      0.91      0.90    120000\n",
      "           4       0.85      0.85      0.85    120000\n",
      "           5       0.98      0.97      0.98    120000\n",
      "           6       0.75      0.71      0.73    120000\n",
      "           7       0.95      0.96      0.95    120000\n",
      "           8       0.98      0.98      0.98    120000\n",
      "           9       0.96      0.96      0.96    120000\n",
      "\n",
      "    accuracy                           0.90   1200000\n",
      "   macro avg       0.90      0.90      0.90   1200000\n",
      "weighted avg       0.90      0.90      0.90   1200000\n",
      "\n",
      "\n"
     ]
    }
   ],
   "source": [
    "import sklearn.metrics as metrics\n",
    "\n",
    "confusion_matrix(labels_l, predictions_l)\n",
    "print(\"Classification report for CNN :\\n%s\\n\"\n",
    "      % (metrics.classification_report(labels_l, predictions_l)))"
   ]
  }
 ],
 "metadata": {
  "kernelspec": {
   "display_name": "Python 3 (ipykernel)",
   "language": "python",
   "name": "python3"
  },
  "language_info": {
   "codemirror_mode": {
    "name": "ipython",
    "version": 3
   },
   "file_extension": ".py",
   "mimetype": "text/x-python",
   "name": "python",
   "nbconvert_exporter": "python",
   "pygments_lexer": "ipython3",
   "version": "3.9.7"
  }
 },
 "nbformat": 4,
 "nbformat_minor": 5
}
